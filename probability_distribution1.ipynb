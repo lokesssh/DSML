{
  "nbformat": 4,
  "nbformat_minor": 0,
  "metadata": {
    "colab": {
      "provenance": [],
      "authorship_tag": "ABX9TyNKhvQKDP0mjeQcsCamr/Bg",
      "include_colab_link": true
    },
    "kernelspec": {
      "name": "python3",
      "display_name": "Python 3"
    },
    "language_info": {
      "name": "python"
    }
  },
  "cells": [
    {
      "cell_type": "markdown",
      "metadata": {
        "id": "view-in-github",
        "colab_type": "text"
      },
      "source": [
        "<a href=\"https://colab.research.google.com/github/lokesssh/DSML/blob/main/probability_distribution1.ipynb\" target=\"_parent\"><img src=\"https://colab.research.google.com/assets/colab-badge.svg\" alt=\"Open In Colab\"/></a>"
      ]
    },
    {
      "cell_type": "code",
      "execution_count": 1,
      "metadata": {
        "id": "RRbvVu_fS-b7"
      },
      "outputs": [],
      "source": [
        "import numpy as np"
      ]
    },
    {
      "cell_type": "markdown",
      "source": [
        "**Gamble**\n",
        "\n",
        "We have to choose 4 balls ,one ball at a time and replace the ball into the bowl again.\n",
        "\n",
        "\n",
        "\n",
        "*   If all the balls were Red, we get 150 points.\n",
        "*   If atleast one ball is blue , we loose 10 points.\n",
        "\n",
        "\n",
        "\n",
        "\n",
        "Would you gamble or not? Use your probability skills."
      ],
      "metadata": {
        "id": "svoOF7WdTTcq"
      }
    },
    {
      "cell_type": "code",
      "source": [
        "np.random.choice(['R','R','R','B','B'],size=4)"
      ],
      "metadata": {
        "colab": {
          "base_uri": "https://localhost:8080/"
        },
        "id": "kOqNP1uETFHI",
        "outputId": "41140052-37d2-4542-9b68-dc3c26da0fb0"
      },
      "execution_count": 2,
      "outputs": [
        {
          "output_type": "execute_result",
          "data": {
            "text/plain": [
              "array(['B', 'B', 'B', 'R'], dtype='<U1')"
            ]
          },
          "metadata": {},
          "execution_count": 2
        }
      ]
    },
    {
      "cell_type": "code",
      "source": [],
      "metadata": {
        "id": "zA1snIyhUQTo"
      },
      "execution_count": null,
      "outputs": []
    }
  ]
}